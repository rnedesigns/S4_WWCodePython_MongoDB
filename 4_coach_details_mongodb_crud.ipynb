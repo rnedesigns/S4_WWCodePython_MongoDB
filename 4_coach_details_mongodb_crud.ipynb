{
 "cells": [
  {
   "cell_type": "markdown",
   "metadata": {},
   "source": [
    "## MongoDB Database CRUD Operations from Jupyter Notebook with Python:\n",
    "\n",
    "<br/>\n",
    "<br/>\n",
    "<!-- ![mongodb_python.png](attachment:mongodb_python.png) -->\n",
    "<img src=\"mongodb_python.png\" style=\"width:500px;height:379px\" />"
   ]
  },
  {
   "cell_type": "markdown",
   "metadata": {},
   "source": [
    "#### Interacting with MongoDB using Python via Jupyter Notebook - alternative to IDE or Text Editor.\n",
    "\n",
    "**Description**: Here I have written the statements to perform CRUD actions on **customer_details** collection in **mongodb_workshop** database from localhost server of MongoDB.\n",
    "\n",
    "#### MongoDB CRUD methods with Python\n",
    "\n",
    "**Create/Insert**:\n",
    "> - insert_one()\n",
    "> - insert_many()\n",
    "\n",
    "**Read/Fetch**:\n",
    "> - To find all documents - find()\n",
    "> - To find one specific document - find({})\n",
    "\n",
    "**Update**:\n",
    "> - update_one()\n",
    "> - update_many()\n",
    "\n",
    "**Delete**:\n",
    "> - delete_one()\n",
    "> - delete_many()"
   ]
  },
  {
   "cell_type": "code",
   "execution_count": null,
   "metadata": {},
   "outputs": [],
   "source": [
    "pip install pymongo"
   ]
  },
  {
   "cell_type": "code",
   "execution_count": null,
   "metadata": {},
   "outputs": [],
   "source": [
    "import pymongo"
   ]
  },
  {
   "cell_type": "code",
   "execution_count": null,
   "metadata": {},
   "outputs": [],
   "source": [
    "# To connect to MongoDB server:\n",
    "client = pymongo.MongoClient('localhost', 27017)\n",
    "\n",
    "# Create Database:\n",
    "db = client.mongodb_workshop\n",
    "\n",
    "# Create Collection:\n",
    "collection = db.collection[\"coach_details\"]"
   ]
  },
  {
   "cell_type": "markdown",
   "metadata": {},
   "source": [
    "#### Data to store/insert into MongoDB Database:"
   ]
  },
  {
   "cell_type": "code",
   "execution_count": null,
   "metadata": {},
   "outputs": [],
   "source": [
    "# One document:\n",
    "doc_1 = {\"_id\": 1, \"first_name\": \"Roldoro\", \"gender\": \"M\", \"shift\": [\"AM\", \"PM\"], \"ph_num\": 456378903, \"trains_for\": [\"valleyball\", \"basketball\"], \"manager\": \"Jack\"}"
   ]
  },
  {
   "cell_type": "code",
   "execution_count": null,
   "metadata": {},
   "outputs": [],
   "source": [
    "# Multiple documents:\n",
    "docs = [\n",
    "    {\"first_name\": \"Audrey\", \"gender\": \"F\", \"shift\": \"AM\", \"ph_num\": 234564980, \"trains_for\": [\"tennis\", \"badminton\"], \"manager\": \"Jack\"},\n",
    "    {\"first_name\": \"William\", \"gender\": \"M\", \"shift\": \"AM\", \"ph_num\": 987654321, \"trains_for\": [\"valleyball\", \"basketball\"], \"manager\": \"Amin\"},\n",
    "    {\"first_name\": \"Deo\", \"gender\": \"M\", \"shift\": \"PM\", \"ph_num\": 456234908, \"trains_for\": \"badminton\", \"manager\": \"Amin\"},\n",
    "    {\"first_name\": \"Sutton\", \"gender\": \"M\", \"shift\": \"AM\", \"ph_num\": 123456789, \"trains_for\": \"tennis\", \"manager\": \"Jack\"},\n",
    "    {\"first_name\": \"Emma\", \"gender\": \"F\", \"shift\": \"PM\", \"ph_num\": 776655443, \"trains_for\": \"indoor archery\", \"manager\": \"Amin\"},\n",
    "    {\"first_name\": \"Hira\", \"gender\": \"F\", \"shift\": [\"AM\", \"PM\"], \"ph_num\": 246813579, \"trains_for\": [\"valleyball\", \"basketball\"], \"manager\": \"Jack\"},\n",
    "    {\"first_name\": \"Isha\", \"gender\": \"F\", \"shift\": \"PM\", \"ph_num\": 135792468, \"trains_for\": \"indoor archery\", \"manager\": \"Amin\"},\n",
    "    {\"first_name\": \"Alice\", \"gender\": \"M\", \"shift\": \"AM\", \"ph_num\": 2244668800, \"trains_for\": \"badminton\", \"manager\": \"Jack\"},\n",
    "    {\"first_name\": \"Deepali\", \"gender\": \"F\", \"shift\": [\"AM\", \"PM\"], \"ph_num\": 113355779, \"trains_for\": [\"tennis\", \"badminton\"], \"manager\": \"Amin\"}\n",
    "]"
   ]
  },
  {
   "cell_type": "code",
   "execution_count": null,
   "metadata": {},
   "outputs": [],
   "source": [
    "# Dummy documents:\n",
    "test_docs = [\n",
    "    {\"first_name\": \"test_1\", \"gender\": \"F\", \"shift\": \"AM\", \"ph_num\": 234564980, \"trains_for\": [\"tennis\", \"badminton\"], \"manager\": \"Jack\"},\n",
    "    {\"first_name\": \"test_2\", \"gender\": \"M\", \"shift\": \"AM\", \"ph_num\": 987654321, \"trains_for\": [\"valleyball\", \"basketball\"], \"manager\": \"Amin\"},\n",
    "    {\"_id\":14, \"first_name\": \"test_3\", \"gender\": \"M\", \"shift\": \"AM\", \"ph_num\": 987654321, \"trains_for\": [\"valleyball\", \"basketball\"], \"manager\": \"Amin\"}\n",
    "]"
   ]
  },
  {
   "cell_type": "code",
   "execution_count": null,
   "metadata": {},
   "outputs": [],
   "source": [
    "# Dummy Document:\n",
    "test_doc = {\"_id\":14, \"first_name\": \"test\", \"gender\": \"M\", \"shift\": \"AM\", \"ph_num\": 987654321, \"trains_for\": [\"valleyball\", \"basketball\"], \"manager\": \"Amin\"}"
   ]
  },
  {
   "cell_type": "markdown",
   "metadata": {},
   "source": [
    "#### To insert documents to the above collection 'coach_details':"
   ]
  },
  {
   "cell_type": "code",
   "execution_count": null,
   "metadata": {},
   "outputs": [],
   "source": [
    "# To insert one document:\n",
    "collection.insert_one(doc_1)"
   ]
  },
  {
   "cell_type": "code",
   "execution_count": null,
   "metadata": {},
   "outputs": [],
   "source": [
    "# To insert multiple documents:\n",
    "collection.insert_many(docs)"
   ]
  },
  {
   "cell_type": "code",
   "execution_count": null,
   "metadata": {},
   "outputs": [],
   "source": [
    "# To insert test documents:\n",
    "collection.insert_many(test_docs)"
   ]
  },
  {
   "cell_type": "markdown",
   "metadata": {},
   "source": [
    "#### To fetch/read documents: "
   ]
  },
  {
   "cell_type": "code",
   "execution_count": null,
   "metadata": {},
   "outputs": [],
   "source": [
    "# To fetch specific document by passing ID:\n",
    "collection.find_one(1)"
   ]
  },
  {
   "cell_type": "code",
   "execution_count": null,
   "metadata": {},
   "outputs": [],
   "source": [
    "# To fetch all documents:\n",
    "results = collection.find()\n",
    "\n",
    "# OR\n",
    "# results = collection.find({})"
   ]
  },
  {
   "cell_type": "code",
   "execution_count": null,
   "metadata": {},
   "outputs": [],
   "source": [
    "# To display documents:\n",
    "for res in results:\n",
    "    print(res)"
   ]
  },
  {
   "cell_type": "code",
   "execution_count": null,
   "metadata": {},
   "outputs": [],
   "source": [
    "# To fetch only few documents:\n",
    "ans = collection.find({}).limit(3)"
   ]
  },
  {
   "cell_type": "code",
   "execution_count": null,
   "metadata": {},
   "outputs": [],
   "source": [
    "# To display documents:\n",
    "for doc in ans:\n",
    "    print(doc)"
   ]
  },
  {
   "cell_type": "markdown",
   "metadata": {},
   "source": [
    "#### To delete documents:"
   ]
  },
  {
   "cell_type": "code",
   "execution_count": null,
   "metadata": {},
   "outputs": [],
   "source": [
    "# To delete one document:\n",
    "collection.delete_one({\"_id\": 14})"
   ]
  },
  {
   "cell_type": "code",
   "execution_count": null,
   "metadata": {},
   "outputs": [],
   "source": [
    "# To delete selected documents:\n",
    "del_docs = { \"first_name\": {\"$regex\": \"^t\"} }"
   ]
  },
  {
   "cell_type": "code",
   "execution_count": null,
   "metadata": {},
   "outputs": [],
   "source": [
    "collection.delete_many(del_docs)"
   ]
  },
  {
   "cell_type": "code",
   "execution_count": null,
   "metadata": {},
   "outputs": [],
   "source": [
    "# To delete all documents - not recommended!\n",
    "# collection.delete_many({})"
   ]
  },
  {
   "cell_type": "markdown",
   "metadata": {},
   "source": [
    "#### To update documents:"
   ]
  },
  {
   "cell_type": "code",
   "execution_count": null,
   "metadata": {},
   "outputs": [],
   "source": [
    "# Storing values in variables to be updated/edited:\n",
    "doc_update = {\"first_name\": \"Deo\"}\n",
    "val_update = {\"$set\": {\"first_name\": \"Deora\"}}"
   ]
  },
  {
   "cell_type": "code",
   "execution_count": null,
   "metadata": {},
   "outputs": [],
   "source": [
    "# To update one document:\n",
    "collection.update_one(doc_update, val_update)"
   ]
  },
  {
   "cell_type": "code",
   "execution_count": null,
   "metadata": {},
   "outputs": [],
   "source": [
    "# Storing values in variables to be updated/edited:\n",
    "docs_update = {\"first_name\": {\"$regex\": \"^A\"}}\n",
    "vals_update = {\"$set\": {\"coach\": \"Wilson\"}}"
   ]
  },
  {
   "cell_type": "code",
   "execution_count": null,
   "metadata": {},
   "outputs": [],
   "source": [
    "# To update multi documents:\n",
    "collection.update_many(docs_update, vals_update)"
   ]
  },
  {
   "cell_type": "markdown",
   "metadata": {},
   "source": [
    "#### To drop/delete a collection - unless it's not required for production or testing!\n",
    "\n",
    "> - For Collection to get created by the MongoDB server, atleast one document needs to be inserted."
   ]
  },
  {
   "cell_type": "code",
   "execution_count": null,
   "metadata": {},
   "outputs": [],
   "source": [
    "test_collection = db.collection[\"test_collection\"]"
   ]
  },
  {
   "cell_type": "code",
   "execution_count": 2,
   "metadata": {},
   "outputs": [],
   "source": [
    "test_collection.insert_one({\"name\": \"Sample Document\"})"
   ]
  },
  {
   "cell_type": "code",
   "execution_count": null,
   "metadata": {},
   "outputs": [],
   "source": [
    "test_collection.drop()"
   ]
  }
 ],
 "metadata": {
  "kernelspec": {
   "display_name": "Python 3",
   "language": "python",
   "name": "python3"
  },
  "language_info": {
   "codemirror_mode": {
    "name": "ipython",
    "version": 3
   },
   "file_extension": ".py",
   "mimetype": "text/x-python",
   "name": "python",
   "nbconvert_exporter": "python",
   "pygments_lexer": "ipython3",
   "version": "3.8.6"
  }
 },
 "nbformat": 4,
 "nbformat_minor": 4
}
