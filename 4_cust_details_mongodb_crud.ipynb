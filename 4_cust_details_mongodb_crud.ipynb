{
 "cells": [
  {
   "cell_type": "markdown",
   "metadata": {},
   "source": [
    "## MongoDB Database Operations from Jupyter Notebook with Python:\n",
    "\n",
    "<br/>\n",
    "<br/>\n",
    "<img src=\"mongodb_python.png\" style=\"width:500px;height:379px\" />"
   ]
  },
  {
   "cell_type": "markdown",
   "metadata": {},
   "source": [
    "#### Interacting with MongoDB using Python via Jupyter Notebook instead of IDE or Text Editor.\n",
    "\n",
    "**Description**: Here I have written the statements to perform CRUD actions on **customer_details** collection in **mongodb_workshop** database from localhost server of MongoDB.\n",
    "\n",
    "#### MongoDB CRUD methods with Python\n",
    "\n",
    "**Create/Insert**:\n",
    "> - insert_one()\n",
    "> - insert_many()\n",
    "\n",
    "**Read/Fetch**:\n",
    "> - To find all documents - find()\n",
    "> - To find one specific document - find({})\n",
    "\n",
    "**Update**:\n",
    "> - update_one()\n",
    "> - update_many()\n",
    "\n",
    "**Delete**:\n",
    "> - delete_one()\n",
    "> - delete_many()"
   ]
  },
  {
   "cell_type": "code",
   "execution_count": null,
   "metadata": {},
   "outputs": [],
   "source": [
    "# pip install pymongo"
   ]
  },
  {
   "cell_type": "code",
   "execution_count": 1,
   "metadata": {},
   "outputs": [],
   "source": [
    "import pymongo\n",
    "# from pymongo import MongoClient"
   ]
  },
  {
   "cell_type": "code",
   "execution_count": 18,
   "metadata": {},
   "outputs": [],
   "source": [
    "# To query MongoDB documents with auto assigned ID:\n",
    "from bson.objectid import ObjectId"
   ]
  },
  {
   "cell_type": "code",
   "execution_count": 2,
   "metadata": {},
   "outputs": [],
   "source": [
    "client = pymongo.MongoClient('localhost', 27017)\n",
    "db = client.mongodb_workshop\n",
    "collection = db.collection[\"customer_details\"]"
   ]
  },
  {
   "cell_type": "markdown",
   "metadata": {},
   "source": [
    "#### To insert one document:"
   ]
  },
  {
   "cell_type": "code",
   "execution_count": 3,
   "metadata": {},
   "outputs": [],
   "source": [
    "cust_1 = {\"_id\": 1, \"first_name\": \"John\", \"gender\": \"M\", \"mem_type\": \"gold\", \"coach\": \"Roldoro\", \"batch\": \"AM\", \"num_of_sessions_week\": 3, \"sport_registered\": \"valleyball\", \"price_month\": 27}"
   ]
  },
  {
   "cell_type": "code",
   "execution_count": 4,
   "metadata": {},
   "outputs": [
    {
     "data": {
      "text/plain": [
       "<pymongo.results.InsertOneResult at 0x106f90b40>"
      ]
     },
     "execution_count": 4,
     "metadata": {},
     "output_type": "execute_result"
    }
   ],
   "source": [
    "collection.insert_one(cust_1)"
   ]
  },
  {
   "cell_type": "markdown",
   "metadata": {},
   "source": [
    "#### To insert more than one document:"
   ]
  },
  {
   "cell_type": "code",
   "execution_count": 5,
   "metadata": {},
   "outputs": [],
   "source": [
    "cust_docs = [\n",
    "    {\"_id\": 2, \"first_name\": \"Abbas\", \"gender\": \"F\", \"mem_type\": \"gold\", \"coach\": \"Roldoro\", \"batch\": \"AM\", \"num_of_sessions_week\": 3, \"sport_registered\": \"valleyball\", \"price_month\": 27},\n",
    "    {\"_id\": 3, \"first_name\": \"Kate\", \"gender\": \"F\", \"mem_type\": \"gold\", \"coach\": \"Roldoro\", \"batch\": \"PM\", \"num_of_sessions_week\": 3, \"sport_registered\": \"basketball\", \"price_month\": 27},\n",
    "    {\"_id\": 4, \"first_name\": \"Adnan\", \"gender\": \"F\", \"mem_type\": \"silver\", \"coach\": \"Roldoro\", \"batch\": \"PM\", \"num_of_sessions_week\": 2, \"sport_registered\": \"basketball\", \"price_month\": 24},\n",
    "    {\"_id\": 5, \"first_name\": \"Kim\", \"gender\": \"M\", \"mem_type\": \"silver\", \"coach\": \"William\", \"batch\": \"PM\", \"num_of_sessions_week\": 2, \"sport_registered\": \"badminton\", \"price_month\": 24},\n",
    "    {\"_id\": 6, \"first_name\": \"Akhil\", \"gender\": \"F\", \"mem_type\": \"platinum\", \"coach\": \"William\", \"batch\": \"PM\", \"num_of_sessions_week\": 4, \"sport_registered\": \"badminton\", \"price_month\": 30},\n",
    "    {\"_id\": 7, \"first_name\": \"Madison\", \"gender\": \"M\", \"mem_type\": \"silver\", \"coach\": \"William\", \"batch\": \"AM\", \"num_of_sessions_week\": 2, \"sport_registered\": \"tt\", \"price_month\": 24}\n",
    "]"
   ]
  },
  {
   "cell_type": "code",
   "execution_count": 6,
   "metadata": {},
   "outputs": [
    {
     "data": {
      "text/plain": [
       "<pymongo.results.InsertManyResult at 0x10714bd80>"
      ]
     },
     "execution_count": 6,
     "metadata": {},
     "output_type": "execute_result"
    }
   ],
   "source": [
    "collection.insert_many(cust_docs)"
   ]
  },
  {
   "cell_type": "markdown",
   "metadata": {},
   "source": [
    "#### Inserting two documents to demo delete_many()"
   ]
  },
  {
   "cell_type": "code",
   "execution_count": 24,
   "metadata": {},
   "outputs": [],
   "source": [
    "test_docs = [\n",
    "    {'first_name': 'check_1', 'gender': 'M', 'mem_type': 'gold', 'coach': 'Roldoro', 'batch': 'AM', 'num_of_sessions_week': 3, 'sport_registered': 'valleyball', 'price_month': 27},\n",
    "    {'first_name': 'check_2', 'gender': 'M', 'mem_type': 'gold', 'coach': 'Roldoro', 'batch': 'AM', 'num_of_sessions_week': 3, 'sport_registered': 'valleyball', 'price_month': 27}\n",
    "]"
   ]
  },
  {
   "cell_type": "code",
   "execution_count": 27,
   "metadata": {},
   "outputs": [
    {
     "data": {
      "text/plain": [
       "<pymongo.results.InsertManyResult at 0x10881e900>"
      ]
     },
     "execution_count": 27,
     "metadata": {},
     "output_type": "execute_result"
    }
   ],
   "source": [
    "collection.insert_many(test_docs)"
   ]
  },
  {
   "cell_type": "markdown",
   "metadata": {},
   "source": [
    "#### To fetch all documents from the collection:"
   ]
  },
  {
   "cell_type": "code",
   "execution_count": 7,
   "metadata": {},
   "outputs": [
    {
     "data": {
      "text/plain": [
       "<pymongo.cursor.Cursor at 0x107120cd0>"
      ]
     },
     "execution_count": 7,
     "metadata": {},
     "output_type": "execute_result"
    }
   ],
   "source": [
    "collection.find()"
   ]
  },
  {
   "cell_type": "code",
   "execution_count": 8,
   "metadata": {},
   "outputs": [],
   "source": [
    "results = collection.find()\n",
    "\n",
    "# OR\n",
    "# results = collection.find({})"
   ]
  },
  {
   "cell_type": "code",
   "execution_count": 9,
   "metadata": {},
   "outputs": [
    {
     "data": {
      "text/plain": [
       "pymongo.cursor.Cursor"
      ]
     },
     "execution_count": 9,
     "metadata": {},
     "output_type": "execute_result"
    }
   ],
   "source": [
    "type(results)"
   ]
  },
  {
   "cell_type": "code",
   "execution_count": 10,
   "metadata": {},
   "outputs": [
    {
     "name": "stdout",
     "output_type": "stream",
     "text": [
      "{'_id': 1, 'first_name': 'John', 'gender': 'M', 'mem_type': 'gold', 'coach': 'Roldoro', 'batch': 'AM', 'num_of_sessions_week': 3, 'sport_registered': 'valleyball', 'price_month': 27}\n",
      "{'_id': 2, 'first_name': 'Abbas', 'gender': 'F', 'mem_type': 'gold', 'coach': 'Roldoro', 'batch': 'AM', 'num_of_sessions_week': 3, 'sport_registered': 'valleyball', 'price_month': 27}\n",
      "{'_id': 3, 'first_name': 'Kate', 'gender': 'F', 'mem_type': 'gold', 'coach': 'Roldoro', 'batch': 'PM', 'num_of_sessions_week': 3, 'sport_registered': 'basketball', 'price_month': 27}\n",
      "{'_id': 4, 'first_name': 'Adnan', 'gender': 'F', 'mem_type': 'silver', 'coach': 'Roldoro', 'batch': 'PM', 'num_of_sessions_week': 2, 'sport_registered': 'basketball', 'price_month': 24}\n",
      "{'_id': 5, 'first_name': 'Kim', 'gender': 'M', 'mem_type': 'silver', 'coach': 'William', 'batch': 'PM', 'num_of_sessions_week': 2, 'sport_registered': 'badminton', 'price_month': 24}\n",
      "{'_id': 6, 'first_name': 'Akhil', 'gender': 'F', 'mem_type': 'platinum', 'coach': 'William', 'batch': 'PM', 'num_of_sessions_week': 4, 'sport_registered': 'badminton', 'price_month': 30}\n",
      "{'_id': 7, 'first_name': 'Madison', 'gender': 'M', 'mem_type': 'silver', 'coach': 'William', 'batch': 'AM', 'num_of_sessions_week': 2, 'sport_registered': 'tt', 'price_month': 24}\n"
     ]
    }
   ],
   "source": [
    "for doc in results:\n",
    "    print(doc)"
   ]
  },
  {
   "cell_type": "markdown",
   "metadata": {},
   "source": [
    "#### Insert a record without explicit '_id' property:"
   ]
  },
  {
   "cell_type": "code",
   "execution_count": null,
   "metadata": {},
   "outputs": [],
   "source": [
    "# doc_delete = {\"first_name\": \"check\", \"gender\": \"M\", \"mem_type\": \"gold\", \"coach\": \"Roldoro\", \"batch\": \"AM\", \"num_of_sessions_week\": 3, \"sport_registered\": \"valleyball\", \"price_month\": 27}"
   ]
  },
  {
   "cell_type": "code",
   "execution_count": 11,
   "metadata": {},
   "outputs": [],
   "source": [
    "res = collection.insert_one({\"first_name\": \"check\", \"gender\": \"M\", \"mem_type\": \"gold\", \"coach\": \"Roldoro\", \"batch\": \"AM\", \"num_of_sessions_week\": 3, \"sport_registered\": \"valleyball\", \"price_month\": 27})"
   ]
  },
  {
   "cell_type": "code",
   "execution_count": 12,
   "metadata": {},
   "outputs": [
    {
     "data": {
      "text/plain": [
       "ObjectId('605dbe03bc5d1e410a476345')"
      ]
     },
     "execution_count": 12,
     "metadata": {},
     "output_type": "execute_result"
    }
   ],
   "source": [
    "# To get the id of above inserted document:\n",
    "res.inserted_id"
   ]
  },
  {
   "cell_type": "markdown",
   "metadata": {},
   "source": [
    "#### To fetch only specific number of documents:"
   ]
  },
  {
   "cell_type": "code",
   "execution_count": 13,
   "metadata": {},
   "outputs": [],
   "source": [
    "ans = collection.find({}).limit(3)"
   ]
  },
  {
   "cell_type": "code",
   "execution_count": 14,
   "metadata": {},
   "outputs": [
    {
     "name": "stdout",
     "output_type": "stream",
     "text": [
      "{'_id': 1, 'first_name': 'John', 'gender': 'M', 'mem_type': 'gold', 'coach': 'Roldoro', 'batch': 'AM', 'num_of_sessions_week': 3, 'sport_registered': 'valleyball', 'price_month': 27}\n",
      "{'_id': 2, 'first_name': 'Abbas', 'gender': 'F', 'mem_type': 'gold', 'coach': 'Roldoro', 'batch': 'AM', 'num_of_sessions_week': 3, 'sport_registered': 'valleyball', 'price_month': 27}\n",
      "{'_id': 3, 'first_name': 'Kate', 'gender': 'F', 'mem_type': 'gold', 'coach': 'Roldoro', 'batch': 'PM', 'num_of_sessions_week': 3, 'sport_registered': 'basketball', 'price_month': 27}\n"
     ]
    }
   ],
   "source": [
    "for doc in ans:\n",
    "    print(doc)"
   ]
  },
  {
   "cell_type": "markdown",
   "metadata": {},
   "source": [
    "#### To fetch the specific document by passing in id:"
   ]
  },
  {
   "cell_type": "code",
   "execution_count": 20,
   "metadata": {},
   "outputs": [
    {
     "data": {
      "text/plain": [
       "{'_id': 2,\n",
       " 'first_name': 'Abbas',\n",
       " 'gender': 'F',\n",
       " 'mem_type': 'gold',\n",
       " 'coach': 'Roldoro',\n",
       " 'batch': 'AM',\n",
       " 'num_of_sessions_week': 3,\n",
       " 'sport_registered': 'valleyball',\n",
       " 'price_month': 27}"
      ]
     },
     "execution_count": 20,
     "metadata": {},
     "output_type": "execute_result"
    }
   ],
   "source": [
    "collection.find_one(2)"
   ]
  },
  {
   "cell_type": "code",
   "execution_count": 19,
   "metadata": {},
   "outputs": [
    {
     "data": {
      "text/plain": [
       "{'_id': ObjectId('605dbe03bc5d1e410a476345'),\n",
       " 'first_name': 'check',\n",
       " 'gender': 'M',\n",
       " 'mem_type': 'gold',\n",
       " 'coach': 'Roldoro',\n",
       " 'batch': 'AM',\n",
       " 'num_of_sessions_week': 3,\n",
       " 'sport_registered': 'valleyball',\n",
       " 'price_month': 27}"
      ]
     },
     "execution_count": 19,
     "metadata": {},
     "output_type": "execute_result"
    }
   ],
   "source": [
    "collection.find_one(ObjectId('605dbe03bc5d1e410a476345'))"
   ]
  },
  {
   "cell_type": "markdown",
   "metadata": {},
   "source": [
    "#### To delete one document:"
   ]
  },
  {
   "cell_type": "code",
   "execution_count": 21,
   "metadata": {},
   "outputs": [],
   "source": [
    "doc_delete = collection.insert_one({\"_id\": 8, \"first_name\": \"Todelete\", \"gender\": \"M\", \"mem_type\": \"gold\", \"coach\": \"Roldoro\", \"batch\": \"AM\", \"num_of_sessions_week\": 3, \"sport_registered\": \"valleyball\", \"price_month\": 27}) "
   ]
  },
  {
   "cell_type": "code",
   "execution_count": 23,
   "metadata": {},
   "outputs": [
    {
     "data": {
      "text/plain": [
       "<pymongo.results.DeleteResult at 0x1087f1580>"
      ]
     },
     "execution_count": 23,
     "metadata": {},
     "output_type": "execute_result"
    }
   ],
   "source": [
    "collection.delete_one({\"_id\": 8})"
   ]
  },
  {
   "cell_type": "code",
   "execution_count": null,
   "metadata": {},
   "outputs": [],
   "source": [
    "# To delete document with auto assigned ID:\n",
    "collection.delete_one({\"_id\": ObjectId('605dbe03bc5d1e410a476345')})"
   ]
  },
  {
   "cell_type": "markdown",
   "metadata": {},
   "source": [
    "#### To delete more than one document:"
   ]
  },
  {
   "cell_type": "code",
   "execution_count": 28,
   "metadata": {},
   "outputs": [],
   "source": [
    "del_docs = { \"first_name\": {\"$regex\": \"^c\"} }"
   ]
  },
  {
   "cell_type": "code",
   "execution_count": 29,
   "metadata": {},
   "outputs": [
    {
     "data": {
      "text/plain": [
       "<pymongo.results.DeleteResult at 0x1084f4800>"
      ]
     },
     "execution_count": 29,
     "metadata": {},
     "output_type": "execute_result"
    }
   ],
   "source": [
    "collection.delete_many(del_docs)"
   ]
  },
  {
   "cell_type": "markdown",
   "metadata": {},
   "source": [
    "#### To delete all the documents:"
   ]
  },
  {
   "cell_type": "code",
   "execution_count": null,
   "metadata": {},
   "outputs": [],
   "source": [
    "collection.delete_many({})"
   ]
  },
  {
   "cell_type": "markdown",
   "metadata": {},
   "source": [
    "#### To update one document:"
   ]
  },
  {
   "cell_type": "code",
   "execution_count": 30,
   "metadata": {},
   "outputs": [],
   "source": [
    "doc_update = {\"first_name\": \"John\"}\n",
    "val_update = {\"$set\": {\"first_name\": \"Johnson\"}}"
   ]
  },
  {
   "cell_type": "code",
   "execution_count": 31,
   "metadata": {},
   "outputs": [
    {
     "data": {
      "text/plain": [
       "<pymongo.results.UpdateResult at 0x108ad8b00>"
      ]
     },
     "execution_count": 31,
     "metadata": {},
     "output_type": "execute_result"
    }
   ],
   "source": [
    "collection.update_one(doc_update, val_update)"
   ]
  },
  {
   "cell_type": "markdown",
   "metadata": {},
   "source": [
    "#### To update more than one document:"
   ]
  },
  {
   "cell_type": "code",
   "execution_count": 32,
   "metadata": {},
   "outputs": [],
   "source": [
    "docs_update = {\"first_name\": {\"$regex\": \"^A\"}}\n",
    "vals_update = {\"$set\": {\"coach\": \"Deo\"}}"
   ]
  },
  {
   "cell_type": "code",
   "execution_count": 33,
   "metadata": {},
   "outputs": [
    {
     "data": {
      "text/plain": [
       "<pymongo.results.UpdateResult at 0x108ad5440>"
      ]
     },
     "execution_count": 33,
     "metadata": {},
     "output_type": "execute_result"
    }
   ],
   "source": [
    "collection.update_many(docs_update, vals_update)"
   ]
  },
  {
   "cell_type": "markdown",
   "metadata": {},
   "source": [
    "#### To drop a collection:"
   ]
  },
  {
   "cell_type": "code",
   "execution_count": null,
   "metadata": {},
   "outputs": [],
   "source": [
    "# collection.drop()"
   ]
  }
 ],
 "metadata": {
  "kernelspec": {
   "display_name": "Python 3",
   "language": "python",
   "name": "python3"
  },
  "language_info": {
   "codemirror_mode": {
    "name": "ipython",
    "version": 3
   },
   "file_extension": ".py",
   "mimetype": "text/x-python",
   "name": "python",
   "nbconvert_exporter": "python",
   "pygments_lexer": "ipython3",
   "version": "3.8.6"
  }
 },
 "nbformat": 4,
 "nbformat_minor": 4
}
